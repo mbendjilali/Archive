{
  "nbformat": 4,
  "nbformat_minor": 0,
  "metadata": {
    "colab": {
      "name": "Classification_signLanguage.ipynb",
      "provenance": [],
      "collapsed_sections": [],
      "include_colab_link": true
    },
    "kernelspec": {
      "name": "python3",
      "display_name": "Python 3"
    },
    "accelerator": "GPU"
  },
  "cells": [
    {
      "cell_type": "markdown",
      "metadata": {
        "id": "view-in-github",
        "colab_type": "text"
      },
      "source": [
        "<a href=\"https://colab.research.google.com/github/mbendjilali/Archive/blob/main/Classification_signLanguage.ipynb\" target=\"_parent\"><img src=\"https://colab.research.google.com/assets/colab-badge.svg\" alt=\"Open In Colab\"/></a>"
      ]
    },
    {
      "cell_type": "code",
      "metadata": {
        "id": "gbC216-08Xd-",
        "colab": {
          "base_uri": "https://localhost:8080/"
        },
        "outputId": "b11a786f-b570-4dac-c996-a88a74366c3e"
      },
      "source": [
        "# adresse mail : michelle.aubrun@thalesaleniaspace.com à rendre le 01/04/2022\n",
        "\n",
        "import os\n",
        "import numpy as np\n",
        "import torch\n",
        "import torch.nn as nn\n",
        "import torch.optim as optim\n",
        "from torch.utils.data import Dataset, DataLoader\n",
        "from torchvision import models, transforms\n",
        "from sklearn.model_selection import train_test_split\n",
        "from sklearn.metrics import confusion_matrix, precision_recall_fscore_support\n",
        "import matplotlib.pyplot as plt\n",
        "import copy\n",
        "\n",
        "\n",
        "# Fix seed for duplication\n",
        "np.random.seed(123)\n",
        "torch.manual_seed(123)"
      ],
      "execution_count": 1,
      "outputs": [
        {
          "output_type": "execute_result",
          "data": {
            "text/plain": [
              "<torch._C.Generator at 0x7f785363b350>"
            ]
          },
          "metadata": {},
          "execution_count": 1
        }
      ]
    },
    {
      "cell_type": "markdown",
      "metadata": {
        "id": "_eos49lShoZQ"
      },
      "source": [
        "##Dataset object to load *data*"
      ]
    },
    {
      "cell_type": "code",
      "metadata": {
        "id": "ZqWn6Gp1TkL_"
      },
      "source": [
        "class ImageDataset(Dataset):\n",
        "\n",
        "    def __init__(self, im, im_ind, train=True):\n",
        "        \"\"\"\n",
        "        :param im:  List of image \n",
        "        :param im_ind: List of class Indice\n",
        "        :param train: Bool, True if training mod\n",
        "        \"\"\"\n",
        "        self.im = im\n",
        "        self.im_ind = im_ind\n",
        "        self.train = train\n",
        "\n",
        "    def __len__(self):\n",
        "        return len(self.im)\n",
        "\n",
        "    def __getitem__(self, index):\n",
        "        # Get image & convert it in torch tensor\n",
        "        image = self.im[index]\n",
        "        tensor = transforms.ToTensor()(image)\n",
        "\n",
        "        # Get class of the image (Groundtruth)\n",
        "        class_image = self.im_ind[index]\n",
        "\n",
        "        # Transform image with torchvision functions (if train mod)\n",
        "        if self.train :\n",
        "          to_tensor = transforms.RandomApply(torch.nn.ModuleList([transforms.ColorJitter()]), p=0.3)\n",
        "          tensor = to_tensor(tensor)\n",
        "        # Normalize image\n",
        "        # normalize = nn.functional.normalize()\n",
        "\n",
        "        return tensor, class_image"
      ],
      "execution_count": 2,
      "outputs": []
    },
    {
      "cell_type": "markdown",
      "metadata": {
        "id": "xJnfinlgh7ck"
      },
      "source": [
        "##Neural Network *model*"
      ]
    },
    {
      "cell_type": "code",
      "metadata": {
        "id": "7PsymO6sXD_r"
      },
      "source": [
        "class MyNetwork(nn.Module):\n",
        "\n",
        "    def __init__(self, num_out):\n",
        "        self.num_out = num_out # output size of the last layer\n",
        "        super(MyNetwork, self).__init__()\n",
        "\n",
        "        # Create an encoder\n",
        "        self.model = nn.Sequential(\n",
        "            nn.Conv2d(1, 32, kernel_size=5, stride=2, padding=2),\n",
        "            nn.ReLU(),\n",
        "            nn.BatchNorm2d(32),\n",
        "            nn.Conv2d(32, 64, kernel_size=3, stride=1, padding=2),\n",
        "            nn.ReLU(),\n",
        "            nn.MaxPool2d(kernel_size = 2),\n",
        "        )\n",
        "\n",
        "        # Add fully connected layers to learn the specific task\n",
        "        self.fc = nn.Sequential(\n",
        "            nn.Linear(18496, 250),\n",
        "            nn.ReLU(),\n",
        "            nn.Dropout(0.2),\n",
        "            nn.Linear(250, self.num_out),\n",
        "            nn.Softmax(dim=1),\n",
        "        )\n",
        "        self.model.to(device)\n",
        "        self.fc.to(device)\n",
        "\n",
        "    # Forward function of the classification model\n",
        "    def forward(self, input):\n",
        "        output = self.model(input)\n",
        "        output = torch.flatten(output, 1)\n",
        "        output = self.fc(output)\n",
        "\n",
        "        return output"
      ],
      "execution_count": 3,
      "outputs": []
    },
    {
      "cell_type": "markdown",
      "metadata": {
        "id": "P0LgeFkkixwc"
      },
      "source": [
        "##Load data"
      ]
    },
    {
      "cell_type": "code",
      "metadata": {
        "id": "nmKvHa9qXcxN",
        "colab": {
          "base_uri": "https://localhost:8080/",
          "height": 268
        },
        "outputId": "212fb5e3-8e0c-4479-f15d-41bf2d2e9d4d"
      },
      "source": [
        "# Load input data and labels\n",
        "data_input = np.load(\"X.npy\")\n",
        "data_label = np.load(\"Y.npy\")\n",
        "\n",
        "# Visualize data\n",
        "\n",
        "plt.imshow(data_input[0])\n",
        "\n",
        "# Split the dataset in train, val and test data (with sklearn.model_selection.train_test_split function)\n",
        "\n",
        "X_train, X_test, Y_train, Y_test = train_test_split(data_input, data_label, test_size=0.33, random_state=42)\n",
        "X_test, X_val, Y_test, Y_val = train_test_split(X_test, Y_test, test_size=0.33, random_state=42)\n",
        "\n",
        "# Generate batches of train and val data (with imageDataset class above and torch.utils.data.DataLoader class)\n",
        "\n",
        "train_dataset  = ImageDataset(X_train, Y_train, train = True)\n",
        "val_dataset = ImageDataset(X_val, Y_val, train = False)\n",
        "\n",
        "\n",
        "train_dataloader = DataLoader(train_dataset, batch_size=64, shuffle=True)\n",
        "val_dataloader = DataLoader(val_dataset, batch_size=64, shuffle=False)\n",
        "    "
      ],
      "execution_count": 5,
      "outputs": [
        {
          "output_type": "display_data",
          "data": {
            "text/plain": [
              "<Figure size 432x288 with 1 Axes>"
            ],
            "image/png": "[encoded data removed]"
          },
          "metadata": {
            "needs_background": "light"
          }
        }
      ]
    },
    {
      "cell_type": "markdown",
      "metadata": {
        "id": "qqqURyXKi3Z3"
      },
      "source": [
        "##Training the model"
      ]
    },
    {
      "cell_type": "code",
      "metadata": {
        "id": "DN8tF5eh9DOn",
        "colab": {
          "base_uri": "https://localhost:8080/"
        },
        "outputId": "037a3024-dc8a-4396-c36c-9138856b6e39"
      },
      "source": [
        "device = torch.device(\"cuda:0\" if torch.cuda.is_available() else \"cpu\")\n",
        "\n",
        "\n",
        "# --------------- Model architecture -----------------\n",
        "\n",
        "num_epochs = 10\n",
        "best_acc = 0.0\n",
        "n = 10 # number of classes\n",
        "\n",
        "# define model architecture\n",
        "network = MyNetwork(n)\n",
        "\n",
        "\n",
        "# define loss function\n",
        "criterion = nn.CrossEntropyLoss()\n",
        "\n",
        "# define optimizer\n",
        "optimizer = torch.optim.Adam([dict(params=network.parameters(), lr = 0.00008),])\n",
        "\n",
        "\n",
        "# Training\n",
        "for epoch in range(num_epochs):\n",
        "    for phase in ['train', 'val']:\n",
        "        epoch_loss = []\n",
        "        epoch_acc = 0\n",
        "\n",
        "        if phase=='train':\n",
        "            # Model in training mod\n",
        "\n",
        "            loader = train_dataloader\n",
        "        else:\n",
        "            # Model in evaluation mod\n",
        "            loader = val_dataloader\n",
        "\n",
        "        for i, data in enumerate(loader):\n",
        "            # Load image and class inside a batch \n",
        "            inputs, labels = data\n",
        "            inputs = inputs.to(device)\n",
        "            labels = labels.to(device)\n",
        "            # Set the gradient to zero\n",
        "            optimizer.zero_grad()\n",
        "\n",
        "            with torch.set_grad_enabled(phase == 'train'): # compute or not the gradient\n",
        "                # Apply the model & compute the loss\n",
        "                outputs = network(inputs)\n",
        "                loss = criterion(outputs, labels)\n",
        "                preds = torch.argmax(outputs, 1)\n",
        "                epoch_acc += torch.sum(preds == torch.argmax(labels,1))\n",
        "                epoch_loss.append(loss.item())\n",
        "\n",
        "                if phase == 'train':\n",
        "                    # compute the gradient & update parameters\n",
        "                    loss.backward()\n",
        "                    optimizer.step()\n",
        "        # Display loss\n",
        "        mean_loss_epoch = np.mean(epoch_loss)\n",
        "        std_loss_epoch = np.std(epoch_loss)\n",
        "        if phase == 'train':\n",
        "            print(f'Epoch: {epoch + 1}, Loss_train: {mean_loss_epoch:.4f} (± {std_loss_epoch:.4f})')\n",
        "        else:\n",
        "            print(f'Epoch: {epoch + 1}, Loss_val: {mean_loss_epoch:.4f} (± {std_loss_epoch:.4f})')\n",
        "\n",
        "            if epoch_acc> best_acc :\n",
        "                # Keep curent model with copy function\n",
        "                best_current_model = copy.deepcopy(network.state_dict())\n",
        "\n",
        "# Save best classification model\n",
        "torch.save(best_current_model, 'bestClassificationModel.pt')"
      ],
      "execution_count": 10,
      "outputs": [
        {
          "output_type": "stream",
          "name": "stdout",
          "text": [
            "Epoch: 1, Loss_train: 2.2458 (± 0.0467)\n",
            "Epoch: 1, Loss_val: 2.1380 (± 0.0334)\n",
            "Epoch: 2, Loss_train: 2.0686 (± 0.0679)\n",
            "Epoch: 2, Loss_val: 1.9681 (± 0.0265)\n",
            "Epoch: 3, Loss_train: 1.9241 (± 0.0507)\n",
            "Epoch: 3, Loss_val: 1.8403 (± 0.0508)\n",
            "Epoch: 4, Loss_train: 1.8183 (± 0.0377)\n",
            "Epoch: 4, Loss_val: 1.7653 (± 0.0382)\n",
            "Epoch: 5, Loss_train: 1.7455 (± 0.0369)\n",
            "Epoch: 5, Loss_val: 1.7442 (± 0.0406)\n",
            "Epoch: 6, Loss_train: 1.6958 (± 0.0293)\n",
            "Epoch: 6, Loss_val: 1.6924 (± 0.0326)\n",
            "Epoch: 7, Loss_train: 1.6634 (± 0.0284)\n",
            "Epoch: 7, Loss_val: 1.6824 (± 0.0351)\n",
            "Epoch: 8, Loss_train: 1.6322 (± 0.0292)\n",
            "Epoch: 8, Loss_val: 1.6702 (± 0.0207)\n",
            "Epoch: 9, Loss_train: 1.6097 (± 0.0283)\n",
            "Epoch: 9, Loss_val: 1.6548 (± 0.0361)\n",
            "Epoch: 10, Loss_train: 1.5979 (± 0.0398)\n",
            "Epoch: 10, Loss_val: 1.6532 (± 0.0243)\n"
          ]
        }
      ]
    },
    {
      "cell_type": "markdown",
      "metadata": {
        "id": "dOqjstZqjBUw"
      },
      "source": [
        "##Evaluate the model"
      ]
    },
    {
      "cell_type": "code",
      "metadata": {
        "id": "hUFtnfedXl9n",
        "colab": {
          "base_uri": "https://localhost:8080/"
        },
        "outputId": "53925156-0123-4e3c-c803-ac49c8ce704c"
      },
      "source": [
        "# Load classification model with its weights\n",
        "bestNetwork = MyNetwork(10)\n",
        "\n",
        "bestNetwork.load_state_dict(torch.load('bestClassificationModel.pt'))\n",
        "\n",
        "# Generate batches of test data \n",
        "\n",
        "test_dataset = ImageDataset(X_test, Y_test, train = False)\n",
        "test_dataloader = DataLoader(test_dataset, batch_size=64, shuffle=False)\n",
        "\n",
        "preds_all = []\n",
        "labels_all = []\n",
        "correct = 0\n",
        "total = 0\n",
        "# Testing\n",
        "with torch.no_grad(): # no gradient\n",
        "    for i, data in enumerate(test_dataloader):\n",
        "        # Load image and class inside a batch \n",
        "        inputs, labels = data\n",
        "        inputs = inputs.to(device)\n",
        "        labels = labels.to(device)\n",
        "        labels_all.extend(labels)\n",
        "        total += labels.size(0)\n",
        "\n",
        "        # Apply the model\n",
        "        outputs = bestNetwork(inputs)\n",
        "        preds = torch.argmax(outputs, 1)\n",
        "        preds_all.append(preds)\n",
        "        correct += (preds == torch.argmax(labels, 1)).sum().item()\n",
        "\n",
        "\n",
        "\n",
        "# Display results\n",
        "print(total)\n",
        "print(correct)\n",
        "print(f'Accuracy of the network on the 10000 test images: {100 * correct // total} %')"
      ],
      "execution_count": 14,
      "outputs": [
        {
          "output_type": "stream",
          "name": "stdout",
          "text": [
            "456\n",
            "382\n",
            "Accuracy of the network on the 10000 test images: 83 %\n"
          ]
        }
      ]
    }
  ]
}