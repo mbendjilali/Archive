{
  "nbformat": 4,
  "nbformat_minor": 0,
  "metadata": {
    "colab": {
      "name": "Classification_CIFAR.ipynb",
      "provenance": [],
      "collapsed_sections": [],
      "include_colab_link": true
    },
    "kernelspec": {
      "name": "python3",
      "display_name": "Python 3"
    },
    "accelerator": "GPU"
  },
  "cells": [
    {
      "cell_type": "markdown",
      "metadata": {
        "id": "view-in-github",
        "colab_type": "text"
      },
      "source": [
        "<a href=\"https://colab.research.google.com/github/mbendjilali/Archive/blob/main/Classification_CIFAR.ipynb\" target=\"_parent\"><img src=\"https://colab.research.google.com/assets/colab-badge.svg\" alt=\"Open In Colab\"/></a>"
      ]
    },
    {
      "cell_type": "code",
      "metadata": {
        "id": "gbC216-08Xd-"
      },
      "source": [
        "# Adresse mail : michelle.aubrun@thalesaleniaspace.com à rendre le 1 avril 2022\n",
        "\n",
        "import torch\n",
        "import torch.nn as nn\n",
        "import torchvision\n",
        "import torchvision.transforms as transforms\n",
        "import numpy as np\n",
        "import copy\n",
        "\n",
        "device = torch.device('cuda') if torch.cuda.is_available() else torch.device('cpu')"
      ],
      "execution_count": 12,
      "outputs": []
    },
    {
      "cell_type": "markdown",
      "metadata": {
        "id": "xJnfinlgh7ck"
      },
      "source": [
        "##Neural Network *model*"
      ]
    },
    {
      "cell_type": "code",
      "metadata": {
        "id": "VpicFMeuvCsW"
      },
      "source": [
        "class MyNetwork2(nn.Module):\n",
        "\n",
        "    def __init__(self, num_out):\n",
        "        self.num_out = num_out # output size of the last layer\n",
        "        super(MyNetwork2, self).__init__()\n",
        "\n",
        "        # Load and tune resnet18\n",
        "        self.model = torchvision.models.resnet18(pretrained=True)\n",
        "        self.model.fc = nn.Linear(self.model.fc.in_features, num_out)\n",
        "        self.model = self.model.to(device)\n",
        "\n",
        "    # Forward function of the classification model\n",
        "    def forward(self, input):\n",
        "        output = self.model.forward(input)\n",
        "        return output"
      ],
      "execution_count": 13,
      "outputs": []
    },
    {
      "cell_type": "markdown",
      "metadata": {
        "id": "P0LgeFkkixwc"
      },
      "source": [
        "##Load data"
      ]
    },
    {
      "cell_type": "code",
      "metadata": {
        "id": "nmKvHa9qXcxN",
        "colab": {
          "base_uri": "https://localhost:8080/"
        },
        "outputId": "ef634403-028e-4429-f2fd-3bdd5e969278"
      },
      "source": [
        "transform = transforms.Compose([transforms.ToTensor(), \n",
        "                                transforms.Normalize((0.5, 0.5, 0.5), (0.5, 0.5, 0.5))])\n",
        "\n",
        "trainingset = torchvision.datasets.CIFAR10(root='./data', train=True, \n",
        "                                           download=True, transform=transform)\n",
        "\n",
        "lengths = [int(len(trainingset)*0.9), int(len(trainingset)*0.1)]\n",
        "trainset, valset = torch.utils.data.random_split(trainingset, lengths)\n",
        "\n",
        "train_dataloader = torch.utils.data.DataLoader(trainset, batch_size=32,\n",
        "                                          shuffle=True, num_workers=2)\n",
        "val_dataloader = torch.utils.data.DataLoader(valset, batch_size=32, \n",
        "                                        shuffle=True, num_workers=2)\n",
        "\n",
        "testset = torchvision.datasets.CIFAR10(root='./data', train=False,\n",
        "                                       download=True, transform=transform)\n",
        "loader_test = torch.utils.data.DataLoader(testset, batch_size=32,\n",
        "                                         shuffle=False, num_workers=2)\n"
      ],
      "execution_count": 19,
      "outputs": [
        {
          "output_type": "stream",
          "name": "stdout",
          "text": [
            "Files already downloaded and verified\n",
            "Files already downloaded and verified\n"
          ]
        }
      ]
    },
    {
      "cell_type": "markdown",
      "metadata": {
        "id": "qqqURyXKi3Z3"
      },
      "source": [
        "##Training the model"
      ]
    },
    {
      "cell_type": "code",
      "metadata": {
        "id": "DN8tF5eh9DOn",
        "colab": {
          "base_uri": "https://localhost:8080/"
        },
        "outputId": "1d6f25a6-5a04-47fb-8c8d-ae7c0aa403e2"
      },
      "source": [
        "# --------------- Model architecture -----------------\n",
        "\n",
        "num_epochs = 10\n",
        "best_acc = 0.0\n",
        "n = 10 # number of classes\n",
        "\n",
        "# define model architecture\n",
        "network = MyNetwork2(n)\n",
        "\n",
        "\n",
        "# define loss function\n",
        "criterion = nn.CrossEntropyLoss()\n",
        "\n",
        "# define optimizer\n",
        "optimizer = torch.optim.Adam([dict(params=network.parameters(), lr = 0.00008),])\n",
        "\n",
        "\n",
        "# Training\n",
        "for epoch in range(num_epochs):\n",
        "    for phase in ['train', 'val']:\n",
        "        epoch_loss = []\n",
        "        epoch_acc = 0\n",
        "\n",
        "        if phase=='train':\n",
        "            # Model in training mod\n",
        "\n",
        "            loader = train_dataloader\n",
        "        else:\n",
        "            # Model in evaluation mod\n",
        "            loader = val_dataloader\n",
        "\n",
        "        for i, data in enumerate(loader):\n",
        "            # Load image and class inside a batch \n",
        "            inputs, labels = data\n",
        "            inputs = inputs.to(device)\n",
        "            labels = labels.to(device)\n",
        "\n",
        "            # Set the gradient to zero\n",
        "            optimizer.zero_grad()\n",
        "\n",
        "            with torch.set_grad_enabled(phase == 'train'): # compute or not the gradient\n",
        "                # Apply the model & compute the loss\n",
        "                outputs = network(inputs)\n",
        "                loss = criterion(outputs, labels)\n",
        "                preds = torch.argmax(outputs, 1)\n",
        "\n",
        "                epoch_acc += torch.sum(preds == labels)\n",
        "                epoch_loss.append(loss.item())\n",
        "\n",
        "                if phase == 'train':\n",
        "                    # compute the gradient & update parameters\n",
        "                    loss.backward()\n",
        "                    optimizer.step()\n",
        "        # Display loss\n",
        "        mean_loss_epoch = np.mean(epoch_loss)\n",
        "        std_loss_epoch = np.std(epoch_loss)\n",
        "        if phase == 'train':\n",
        "            print(f'Epoch: {epoch + 1}, Loss_train: {mean_loss_epoch:.4f} (± {std_loss_epoch:.4f})')\n",
        "        else:\n",
        "            print(f'Epoch: {epoch + 1}, Loss_val: {mean_loss_epoch:.4f} (± {std_loss_epoch:.4f})')\n",
        "\n",
        "            if epoch_acc> best_acc :\n",
        "                # Keep curent model with copy function\n",
        "                best_current_model = copy.deepcopy(network.state_dict())\n",
        "\n",
        "# Save best classification model\n",
        "torch.save(best_current_model, 'bestClassificationModel.pt')"
      ],
      "execution_count": 27,
      "outputs": [
        {
          "output_type": "stream",
          "name": "stdout",
          "text": [
            "Epoch: 1, Loss_train: 1.5732 (± 0.2721)\n",
            "Epoch: 1, Loss_val: 1.3810 (± 0.2055)\n",
            "Epoch: 2, Loss_train: 1.1988 (± 0.2014)\n",
            "Epoch: 2, Loss_val: 1.2269 (± 0.1981)\n",
            "Epoch: 3, Loss_train: 0.9877 (± 0.1874)\n",
            "Epoch: 3, Loss_val: 1.1291 (± 0.1920)\n",
            "Epoch: 4, Loss_train: 0.8205 (± 0.1819)\n",
            "Epoch: 4, Loss_val: 1.1133 (± 0.2649)\n",
            "Epoch: 5, Loss_train: 0.6578 (± 0.1774)\n",
            "Epoch: 5, Loss_val: 1.1480 (± 0.2927)\n",
            "Epoch: 6, Loss_train: 0.5185 (± 0.1600)\n",
            "Epoch: 6, Loss_val: 1.1794 (± 0.3314)\n",
            "Epoch: 7, Loss_train: 0.4001 (± 0.1459)\n",
            "Epoch: 7, Loss_val: 1.2806 (± 0.3568)\n",
            "Epoch: 8, Loss_train: 0.3130 (± 0.1308)\n",
            "Epoch: 8, Loss_val: 1.4060 (± 0.3812)\n",
            "Epoch: 9, Loss_train: 0.2533 (± 0.1235)\n",
            "Epoch: 9, Loss_val: 1.4783 (± 0.4387)\n",
            "Epoch: 10, Loss_train: 0.2150 (± 0.1140)\n",
            "Epoch: 10, Loss_val: 1.5370 (± 0.4085)\n"
          ]
        }
      ]
    },
    {
      "cell_type": "markdown",
      "metadata": {
        "id": "dOqjstZqjBUw"
      },
      "source": [
        "##Evaluate the model"
      ]
    },
    {
      "cell_type": "code",
      "metadata": {
        "id": "hUFtnfedXl9n",
        "colab": {
          "base_uri": "https://localhost:8080/"
        },
        "outputId": "24ba8356-975f-47c6-8682-9043856bf956"
      },
      "source": [
        "# Load classification model with its weights\n",
        "bestNetwork = MyNetwork2(10)\n",
        "\n",
        "bestNetwork.load_state_dict(torch.load('bestClassificationModel.pt'))\n",
        "\n",
        "# Generate batches of test data \n",
        "\n",
        "preds_all = []\n",
        "labels_all = []\n",
        "correct = 0\n",
        "total = 0\n",
        "# Testing\n",
        "with torch.no_grad(): # no gradient\n",
        "    for i, data in enumerate(loader_test):\n",
        "        # Load image and class inside a batch \n",
        "        inputs, labels = data\n",
        "        inputs = inputs.to(device)\n",
        "        labels = labels.to(device)\n",
        "        labels_all.extend(labels)\n",
        "        total += labels.size(0)\n",
        "\n",
        "        # Apply the model\n",
        "        outputs = bestNetwork(inputs)\n",
        "        preds = torch.argmax(outputs, 1)\n",
        "        preds_all.append(preds)\n",
        "        correct += (preds == labels).sum().item()\n",
        "\n",
        "\n",
        "\n",
        "# Display results\n",
        "print(total)\n",
        "print(correct)\n",
        "print(f'Accuracy of the network on the 10000 test images: {100 * correct // total} %')"
      ],
      "execution_count": 32,
      "outputs": [
        {
          "output_type": "stream",
          "name": "stdout",
          "text": [
            "10000\n",
            "6362\n",
            "Accuracy of the network on the 10000 test images: 63 %\n"
          ]
        }
      ]
    }
  ]
}
